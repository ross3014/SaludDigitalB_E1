{
 "cells": [
  {
   "cell_type": "code",
   "execution_count": 1,
   "id": "388c2691",
   "metadata": {},
   "outputs": [
    {
     "name": "stdout",
     "output_type": "stream",
     "text": [
      "✅ Estructura de carpetas creada correctamente.\n"
     ]
    }
   ],
   "source": [
    "# 1_Crear_Carpetas.ipynb\n",
    "from pathlib import Path\n",
    "\n",
    "# Crear carpetas base del proyecto\n",
    "folders = [\"data\", \"database\", \"reports\", \"ci\", \"git\", \"scripts\"]\n",
    "\n",
    "for f in folders:\n",
    "    Path(f).mkdir(exist_ok=True)\n",
    "\n",
    "print(\"✅ Estructura de carpetas creada correctamente.\")\n"
   ]
  }
 ],
 "metadata": {
  "kernelspec": {
   "display_name": "myenv",
   "language": "python",
   "name": "python3"
  },
  "language_info": {
   "codemirror_mode": {
    "name": "ipython",
    "version": 3
   },
   "file_extension": ".py",
   "mimetype": "text/x-python",
   "name": "python",
   "nbconvert_exporter": "python",
   "pygments_lexer": "ipython3",
   "version": "3.13.5"
  }
 },
 "nbformat": 4,
 "nbformat_minor": 5
}
