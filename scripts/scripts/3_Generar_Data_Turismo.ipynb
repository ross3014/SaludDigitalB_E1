{
 "cells": [
  {
   "cell_type": "code",
   "execution_count": null,
   "id": "c1904be8",
   "metadata": {},
   "outputs": [],
   "source": [
    "from pathlib import Path\n",
    "import csv\n",
    "import random\n",
    "from datetime import datetime, timedelta\n",
    "\n",
    "# 1️⃣ Crear carpeta \"data\" si no existe\n",
    "data_path = Path.cwd() / \"../data\"\n",
    "data_path.mkdir(parents=True, exist_ok=True)\n",
    "\n",
    "# 2️⃣ Definir archivo CSV\n",
    "csv_file = data_path / \"base.csv\"\n",
    "\n",
    "# 3️⃣ Listas base de datos simulados\n",
    "nombres = [\"Ana\", \"Luis\", \"Carlos\", \"María\", \"Pedro\", \"Lucía\", \"Elena\", \"José\"]\n",
    "apellidos = [\"Torres\", \"Pérez\", \"Ramos\", \"López\", \"García\", \"Sánchez\"]\n",
    "distritos = [\"Miraflores\", \"Surco\", \"San Isidro\", \"Lima\", \"Callao\", \"La Molina\", None, \"NA\"]\n",
    "servicios = [\"Odontología\", \"Pediatría\", \"Cardiología\", \"Laboratorio\", \"Medicina General\", None, \"NA\"]\n",
    "sexos = [\"M\", \"F\", None, \"NA\"]\n",
    "\n",
    "# 4️⃣ Generar fechas aleatorias\n",
    "def generar_fecha():\n",
    "    \"\"\"Genera una fecha aleatoria entre 2020 y 2025\"\"\"\n",
    "    inicio = datetime(2020, 1, 1)\n",
    "    fin = datetime(2025, 1, 1)\n",
    "    delta = fin - inicio\n",
    "    fecha_random = inicio + timedelta(days=random.randint(0, delta.days))\n",
    "    return fecha_random.strftime(\"%Y-%m-%d\")\n",
    "\n",
    "# 5️⃣ Crear registros simulados\n",
    "registros = []\n",
    "for i in range(1, 3001):  # 3000 pacientes\n",
    "    id_paciente = f\"P{i:04d}\"\n",
    "    nombre = f\"{random.choice(nombres)} {random.choice(apellidos)}\"\n",
    "    \n",
    "    edad = random.choice([random.randint(1, 90), \"\", \"NA\", None]) if random.random() < 0.1 else random.randint(1, 90)\n",
    "    sexo = random.choice(sexos) if random.random() < 0.1 else random.choice([\"M\", \"F\"])\n",
    "    distrito = random.choice(distritos) if random.random() < 0.05 else random.choice(distritos[:-2])\n",
    "    servicio = random.choice(servicios) if random.random() < 0.05 else random.choice(servicios[:-2])\n",
    "    fecha_atencion = generar_fecha()\n",
    "    monto = random.choice([round(random.uniform(50, 500), 2), \"\", None, \"NA\"]) if random.random() < 0.1 else round(random.uniform(50, 500), 2)\n",
    "\n",
    "    registros.append([id_paciente, nombre, edad, sexo, distrito, servicio, fecha_atencion, monto])\n",
    "\n",
    "# 6️⃣ Escribir en el archivo CSV\n",
    "with open(csv_file, mode=\"w\", newline=\"\", encoding=\"utf-8-sig\") as file:\n",
    "    writer = csv.writer(file)\n",
    "    writer.writerow([\"id_paciente\", \"nombre\", \"edad\", \"sexo\", \"distrito\", \"servicio\", \"fecha_atencion\", \"monto\"])\n",
    "    writer.writerows(registros)\n",
    "\n",
    "print(f\"✅ Archivo generado correctamente en: {csv_file}\")\n",
    "print(f\"📊 Total de registros: {len(registros)}\")\n"
   ]
  }
 ],
 "metadata": {
  "kernelspec": {
   "display_name": "myenv",
   "language": "python",
   "name": "python3"
  },
  "language_info": {
   "name": "python",
   "version": "3.13.5"
  }
 },
 "nbformat": 4,
 "nbformat_minor": 5
}
