{
 "cells": [
  {
   "cell_type": "code",
   "execution_count": 2,
   "id": "f5c4dfd9",
   "metadata": {},
   "outputs": [
    {
     "name": "stdout",
     "output_type": "stream",
     "text": [
      "✅ Archivo base.csv creado correctamente en carpeta /data.\n"
     ]
    }
   ],
   "source": [
    "from pathlib import Path\n",
    "\n",
    "# Definir la ruta y crear la carpeta si no existe\n",
    "data_path = Path(\"data\")\n",
    "data_path.mkdir(parents=True, exist_ok=True)\n",
    "\n",
    "base_file = data_path / \"base.csv\"\n",
    "\n",
    "columns = \"id_paciente,nombre,edad,sexo,distrito,servicio,fecha_atencion,monto\\n\"\n",
    "\n",
    "with open(base_file, \"w\", encoding=\"utf-8\") as f:\n",
    "    f.write(columns)\n",
    "\n",
    "print(\"✅ Archivo base.csv creado correctamente en carpeta /data.\")\n"
   ]
  }
 ],
 "metadata": {
  "kernelspec": {
   "display_name": "myenv",
   "language": "python",
   "name": "python3"
  },
  "language_info": {
   "codemirror_mode": {
    "name": "ipython",
    "version": 3
   },
   "file_extension": ".py",
   "mimetype": "text/x-python",
   "name": "python",
   "nbconvert_exporter": "python",
   "pygments_lexer": "ipython3",
   "version": "3.13.5"
  }
 },
 "nbformat": 4,
 "nbformat_minor": 5
}
